{
 "cells": [
  {
   "cell_type": "code",
   "execution_count": 39,
   "id": "c0434e9b",
   "metadata": {},
   "outputs": [],
   "source": [
    "import pandas as pd"
   ]
  },
  {
   "cell_type": "code",
   "execution_count": 42,
   "id": "c0e97e40",
   "metadata": {},
   "outputs": [],
   "source": [
    "df = pd.read_csv(\"dataset.csv\")\n",
    "\n",
    "# The data type of perpetrator's age was not seen as int initially, so there was the need to treat those values and \n",
    "# transform them to NaN (there is only one row with a )\n",
    "df['Perpetrator Age'] = pd.to_numeric(df['Perpetrator Age'], errors='coerce').astype('Int64')\n",
    "df.dropna(inplace=True)"
   ]
  },
  {
   "cell_type": "code",
   "execution_count": 43,
   "id": "401443fb",
   "metadata": {},
   "outputs": [
    {
     "data": {
      "text/plain": [
       "Record ID            int64\n",
       "Agency Code         object\n",
       "Agency Name         object\n",
       "Agency Type         object\n",
       "City                object\n",
       "State               object\n",
       "Year                 int64\n",
       "Month               object\n",
       "Incident             int64\n",
       "Crime Type          object\n",
       "Crime Solved        object\n",
       "Victim Sex          object\n",
       "Victim Age           int64\n",
       "Victim Race         object\n",
       "Perpetrator Sex     object\n",
       "Perpetrator Age      Int64\n",
       "Perpetrator Race    object\n",
       "Relationship        object\n",
       "Weapon              object\n",
       "Record Source       object\n",
       "dtype: object"
      ]
     },
     "execution_count": 43,
     "metadata": {},
     "output_type": "execute_result"
    }
   ],
   "source": [
    "df.dtypes"
   ]
  },
  {
   "cell_type": "code",
   "execution_count": 48,
   "id": "8042c905",
   "metadata": {},
   "outputs": [
    {
     "data": {
      "text/plain": [
       "Record ID           0\n",
       "Agency Code         0\n",
       "Agency Name         0\n",
       "Agency Type         0\n",
       "City                0\n",
       "State               0\n",
       "Year                0\n",
       "Month               0\n",
       "Incident            0\n",
       "Crime Type          0\n",
       "Crime Solved        0\n",
       "Victim Sex          0\n",
       "Victim Age          0\n",
       "Victim Race         0\n",
       "Perpetrator Sex     0\n",
       "Perpetrator Age     0\n",
       "Perpetrator Race    0\n",
       "Relationship        0\n",
       "Weapon              0\n",
       "Record Source       0\n",
       "dtype: int64"
      ]
     },
     "execution_count": 48,
     "metadata": {},
     "output_type": "execute_result"
    }
   ],
   "source": [
    "#number of lines\n",
    "nan_counts = df.isna().sum()\n",
    "nan_counts"
   ]
  },
  {
   "cell_type": "code",
   "execution_count": null,
   "id": "5f3f62a6",
   "metadata": {},
   "outputs": [],
   "source": []
  }
 ],
 "metadata": {
  "kernelspec": {
   "display_name": "Python 3 (ipykernel)",
   "language": "python",
   "name": "python3"
  },
  "language_info": {
   "codemirror_mode": {
    "name": "ipython",
    "version": 3
   },
   "file_extension": ".py",
   "mimetype": "text/x-python",
   "name": "python",
   "nbconvert_exporter": "python",
   "pygments_lexer": "ipython3",
   "version": "3.9.7"
  }
 },
 "nbformat": 4,
 "nbformat_minor": 5
}
