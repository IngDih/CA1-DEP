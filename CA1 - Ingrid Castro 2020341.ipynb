{
 "cells": [
  {
   "cell_type": "code",
   "execution_count": 1,
   "id": "c0434e9b",
   "metadata": {},
   "outputs": [],
   "source": [
    "import pandas as pd\n",
    "import numpy as np"
   ]
  },
  {
   "cell_type": "code",
   "execution_count": 2,
   "id": "4d5b0409",
   "metadata": {},
   "outputs": [],
   "source": [
    "df = pd.read_csv(\"dataset.csv\", low_memory=False)\n",
    "\n",
    "# The data type of perpetrator's age was not seen as int initially, so there was the need to treat those values and \n",
    "# transform them to NaN (there is only one row with an NA value in 'Perpetrator Age')\n",
    "df['Perpetrator Age'] = pd.to_numeric(df['Perpetrator Age'], errors='coerce').astype('Int64')\n",
    "df.dropna(inplace=True)"
   ]
  },
  {
   "cell_type": "code",
   "execution_count": 3,
   "id": "acf2419b",
   "metadata": {},
   "outputs": [
    {
     "data": {
      "text/plain": [
       "Record ID            int64\n",
       "Agency Code         object\n",
       "Agency Name         object\n",
       "Agency Type         object\n",
       "City                object\n",
       "State               object\n",
       "Year                 int64\n",
       "Month               object\n",
       "Incident             int64\n",
       "Crime Type          object\n",
       "Crime Solved        object\n",
       "Victim Sex          object\n",
       "Victim Age           int64\n",
       "Victim Race         object\n",
       "Perpetrator Sex     object\n",
       "Perpetrator Age      Int64\n",
       "Perpetrator Race    object\n",
       "Relationship        object\n",
       "Weapon              object\n",
       "Record Source       object\n",
       "dtype: object"
      ]
     },
     "execution_count": 3,
     "metadata": {},
     "output_type": "execute_result"
    }
   ],
   "source": [
    "df.dtypes"
   ]
  },
  {
   "cell_type": "code",
   "execution_count": 4,
   "id": "66b4b83e",
   "metadata": {},
   "outputs": [
    {
     "data": {
      "text/plain": [
       "Record ID           0\n",
       "Agency Code         0\n",
       "Agency Name         0\n",
       "Agency Type         0\n",
       "City                0\n",
       "State               0\n",
       "Year                0\n",
       "Month               0\n",
       "Incident            0\n",
       "Crime Type          0\n",
       "Crime Solved        0\n",
       "Victim Sex          0\n",
       "Victim Age          0\n",
       "Victim Race         0\n",
       "Perpetrator Sex     0\n",
       "Perpetrator Age     0\n",
       "Perpetrator Race    0\n",
       "Relationship        0\n",
       "Weapon              0\n",
       "Record Source       0\n",
       "dtype: int64"
      ]
     },
     "execution_count": 4,
     "metadata": {},
     "output_type": "execute_result"
    }
   ],
   "source": [
    "#number of lines with NA values count\n",
    "nan_counts = df.isna().sum()\n",
    "nan_counts"
   ]
  },
  {
   "cell_type": "code",
   "execution_count": 5,
   "id": "d428fe26",
   "metadata": {},
   "outputs": [
    {
     "data": {
      "text/html": [
       "<div>\n",
       "<style scoped>\n",
       "    .dataframe tbody tr th:only-of-type {\n",
       "        vertical-align: middle;\n",
       "    }\n",
       "\n",
       "    .dataframe tbody tr th {\n",
       "        vertical-align: top;\n",
       "    }\n",
       "\n",
       "    .dataframe thead th {\n",
       "        text-align: right;\n",
       "    }\n",
       "</style>\n",
       "<table border=\"1\" class=\"dataframe\">\n",
       "  <thead>\n",
       "    <tr style=\"text-align: right;\">\n",
       "      <th></th>\n",
       "      <th>Record ID</th>\n",
       "      <th>Agency Code</th>\n",
       "      <th>Agency Name</th>\n",
       "      <th>Agency Type</th>\n",
       "      <th>City</th>\n",
       "      <th>State</th>\n",
       "      <th>Year</th>\n",
       "      <th>Month</th>\n",
       "      <th>Incident</th>\n",
       "      <th>Crime Type</th>\n",
       "      <th>Crime Solved</th>\n",
       "      <th>Victim Sex</th>\n",
       "      <th>Victim Age</th>\n",
       "      <th>Victim Race</th>\n",
       "      <th>Perpetrator Sex</th>\n",
       "      <th>Perpetrator Age</th>\n",
       "      <th>Perpetrator Race</th>\n",
       "      <th>Relationship</th>\n",
       "      <th>Weapon</th>\n",
       "      <th>Record Source</th>\n",
       "    </tr>\n",
       "  </thead>\n",
       "  <tbody>\n",
       "    <tr>\n",
       "      <th>0</th>\n",
       "      <td>1</td>\n",
       "      <td>AK00101</td>\n",
       "      <td>Anchorage</td>\n",
       "      <td>Municipal Police</td>\n",
       "      <td>Anchorage</td>\n",
       "      <td>Alaska</td>\n",
       "      <td>1980</td>\n",
       "      <td>January</td>\n",
       "      <td>1</td>\n",
       "      <td>Murder or Manslaughter</td>\n",
       "      <td>Yes</td>\n",
       "      <td>Male</td>\n",
       "      <td>14</td>\n",
       "      <td>Native American/Alaska Native</td>\n",
       "      <td>Male</td>\n",
       "      <td>15</td>\n",
       "      <td>Native American/Alaska Native</td>\n",
       "      <td>Acquaintance</td>\n",
       "      <td>Blunt Object</td>\n",
       "      <td>FBI</td>\n",
       "    </tr>\n",
       "    <tr>\n",
       "      <th>1</th>\n",
       "      <td>2</td>\n",
       "      <td>AK00101</td>\n",
       "      <td>Anchorage</td>\n",
       "      <td>Municipal Police</td>\n",
       "      <td>Anchorage</td>\n",
       "      <td>Alaska</td>\n",
       "      <td>1980</td>\n",
       "      <td>March</td>\n",
       "      <td>1</td>\n",
       "      <td>Murder or Manslaughter</td>\n",
       "      <td>Yes</td>\n",
       "      <td>Male</td>\n",
       "      <td>43</td>\n",
       "      <td>White</td>\n",
       "      <td>Male</td>\n",
       "      <td>42</td>\n",
       "      <td>White</td>\n",
       "      <td>Acquaintance</td>\n",
       "      <td>Strangulation</td>\n",
       "      <td>FBI</td>\n",
       "    </tr>\n",
       "    <tr>\n",
       "      <th>2</th>\n",
       "      <td>3</td>\n",
       "      <td>AK00101</td>\n",
       "      <td>Anchorage</td>\n",
       "      <td>Municipal Police</td>\n",
       "      <td>Anchorage</td>\n",
       "      <td>Alaska</td>\n",
       "      <td>1980</td>\n",
       "      <td>March</td>\n",
       "      <td>2</td>\n",
       "      <td>Murder or Manslaughter</td>\n",
       "      <td>No</td>\n",
       "      <td>Female</td>\n",
       "      <td>30</td>\n",
       "      <td>Native American/Alaska Native</td>\n",
       "      <td>Unknown</td>\n",
       "      <td>0</td>\n",
       "      <td>Unknown</td>\n",
       "      <td>Unknown</td>\n",
       "      <td>Unknown</td>\n",
       "      <td>FBI</td>\n",
       "    </tr>\n",
       "    <tr>\n",
       "      <th>3</th>\n",
       "      <td>4</td>\n",
       "      <td>AK00101</td>\n",
       "      <td>Anchorage</td>\n",
       "      <td>Municipal Police</td>\n",
       "      <td>Anchorage</td>\n",
       "      <td>Alaska</td>\n",
       "      <td>1980</td>\n",
       "      <td>April</td>\n",
       "      <td>1</td>\n",
       "      <td>Murder or Manslaughter</td>\n",
       "      <td>Yes</td>\n",
       "      <td>Male</td>\n",
       "      <td>43</td>\n",
       "      <td>White</td>\n",
       "      <td>Male</td>\n",
       "      <td>42</td>\n",
       "      <td>White</td>\n",
       "      <td>Acquaintance</td>\n",
       "      <td>Strangulation</td>\n",
       "      <td>FBI</td>\n",
       "    </tr>\n",
       "    <tr>\n",
       "      <th>4</th>\n",
       "      <td>5</td>\n",
       "      <td>AK00101</td>\n",
       "      <td>Anchorage</td>\n",
       "      <td>Municipal Police</td>\n",
       "      <td>Anchorage</td>\n",
       "      <td>Alaska</td>\n",
       "      <td>1980</td>\n",
       "      <td>April</td>\n",
       "      <td>2</td>\n",
       "      <td>Murder or Manslaughter</td>\n",
       "      <td>No</td>\n",
       "      <td>Female</td>\n",
       "      <td>30</td>\n",
       "      <td>Native American/Alaska Native</td>\n",
       "      <td>Unknown</td>\n",
       "      <td>0</td>\n",
       "      <td>Unknown</td>\n",
       "      <td>Unknown</td>\n",
       "      <td>Unknown</td>\n",
       "      <td>FBI</td>\n",
       "    </tr>\n",
       "  </tbody>\n",
       "</table>\n",
       "</div>"
      ],
      "text/plain": [
       "   Record ID Agency Code Agency Name       Agency Type       City   State  \\\n",
       "0          1     AK00101   Anchorage  Municipal Police  Anchorage  Alaska   \n",
       "1          2     AK00101   Anchorage  Municipal Police  Anchorage  Alaska   \n",
       "2          3     AK00101   Anchorage  Municipal Police  Anchorage  Alaska   \n",
       "3          4     AK00101   Anchorage  Municipal Police  Anchorage  Alaska   \n",
       "4          5     AK00101   Anchorage  Municipal Police  Anchorage  Alaska   \n",
       "\n",
       "   Year    Month  Incident              Crime Type Crime Solved Victim Sex  \\\n",
       "0  1980  January         1  Murder or Manslaughter          Yes       Male   \n",
       "1  1980    March         1  Murder or Manslaughter          Yes       Male   \n",
       "2  1980    March         2  Murder or Manslaughter           No     Female   \n",
       "3  1980    April         1  Murder or Manslaughter          Yes       Male   \n",
       "4  1980    April         2  Murder or Manslaughter           No     Female   \n",
       "\n",
       "   Victim Age                    Victim Race Perpetrator Sex  Perpetrator Age  \\\n",
       "0          14  Native American/Alaska Native            Male               15   \n",
       "1          43                          White            Male               42   \n",
       "2          30  Native American/Alaska Native         Unknown                0   \n",
       "3          43                          White            Male               42   \n",
       "4          30  Native American/Alaska Native         Unknown                0   \n",
       "\n",
       "                Perpetrator Race  Relationship         Weapon Record Source  \n",
       "0  Native American/Alaska Native  Acquaintance   Blunt Object           FBI  \n",
       "1                          White  Acquaintance  Strangulation           FBI  \n",
       "2                        Unknown       Unknown        Unknown           FBI  \n",
       "3                          White  Acquaintance  Strangulation           FBI  \n",
       "4                        Unknown       Unknown        Unknown           FBI  "
      ]
     },
     "execution_count": 5,
     "metadata": {},
     "output_type": "execute_result"
    }
   ],
   "source": [
    "df.head()"
   ]
  },
  {
   "cell_type": "markdown",
   "id": "e68b6427",
   "metadata": {},
   "source": [
    "## Tasks\n",
    "\n",
    "a) Identify which variables are categorical, discrete and continuous in the chosen data set and show\n",
    "using some visualization or plot. Explore whether there are missing values for any of the variables.\n",
    "\n",
    "b) Calculate the statistical parameters (mean, median, minimum, maximum, and standard deviation)\n",
    "for each of the numerical variables.\n",
    "\n",
    "c) Apply Min-Max Normalization, Z-score Standardization and Robust scalar on the numerical data\n",
    "variables.\n",
    "\n",
    "d) Line, Scatter and Heatmaps can be used to show the correlation between the features of the\n",
    "dataset.\n",
    "\n",
    "e) Graphics and descriptive understanding should be provided along with Data Exploratory analysis\n",
    "(EDA). Identify subgroups of features that can explore some interesting facts.\n",
    "\n",
    "f) Apply dummy encoding to categorical variables (at least one variable used from the data set) and\n",
    "discuss the benefits of dummy encoding to understand the categorical data.\n",
    "\n",
    "g) Apply PCA with your chosen number of components. Write up a short profile of the first few\n",
    "components extracted based on your understanding.\n",
    "\n",
    "h) What is the purpose of dimensionality reduction? Explore the situations where you can gain the\n",
    "benefit of dimensionality reduction for data analysis."
   ]
  },
  {
   "cell_type": "markdown",
   "id": "d7fe7080",
   "metadata": {},
   "source": [
    "-----------------"
   ]
  },
  {
   "cell_type": "markdown",
   "id": "32b21041",
   "metadata": {},
   "source": [
    "a)"
   ]
  },
  {
   "cell_type": "code",
   "execution_count": 31,
   "id": "1f22b74f",
   "metadata": {},
   "outputs": [
    {
     "data": {
      "text/plain": [
       "974"
      ]
     },
     "execution_count": 31,
     "metadata": {},
     "output_type": "execute_result"
    }
   ],
   "source": [
    "## While doing the min and maximum age I've noticed that some Victim Ages from unknown cases were \n",
    "## described as 998, so I am leaving this note for the future so i can treat and drop these lines, \n",
    "## or do something else with them, like substituting for the mean/median\n",
    "above_100 = (df['Victim Age'] == 998).sum()\n",
    "above_100"
   ]
  },
  {
   "cell_type": "markdown",
   "id": "8964513d",
   "metadata": {},
   "source": [
    "b) Numerical Values: Year, Victim Age, Perpetrator Age\n",
    "\n",
    "## Mean Calculation"
   ]
  },
  {
   "cell_type": "code",
   "execution_count": 6,
   "id": "650672a5",
   "metadata": {},
   "outputs": [],
   "source": [
    "year_mean = df['Year'].mean()\n",
    "year_mean = round(year_mean, 1)\n",
    "victim_age_mean = df['Victim Age'].mean()\n",
    "victim_age_mean = round(victim_age_mean, 2)\n",
    "perpetrator_age_mean = df['Perpetrator Age'].mean()\n",
    "perpetrator_age_mean = round(perpetrator_age_mean, 2)"
   ]
  },
  {
   "cell_type": "markdown",
   "id": "5fbd9623",
   "metadata": {},
   "source": [
    "## Mean Values"
   ]
  },
  {
   "cell_type": "code",
   "execution_count": 7,
   "id": "8edbfefc",
   "metadata": {},
   "outputs": [
    {
     "name": "stdout",
     "output_type": "stream",
     "text": [
      "The mean for the Year values is:  1995.8\n",
      "The mean for the Victim Age values is:  35.03\n",
      "The mean for the Year values is:  20.32\n"
     ]
    }
   ],
   "source": [
    "print(\"The mean for the Year values is: \", year_mean)\n",
    "print(\"The mean for the Victim Age values is: \", victim_age_mean)\n",
    "print(\"The mean for the Year values is: \", perpetrator_age_mean)"
   ]
  },
  {
   "cell_type": "markdown",
   "id": "83abd6c0",
   "metadata": {},
   "source": [
    "## Median calculation"
   ]
  },
  {
   "cell_type": "code",
   "execution_count": 8,
   "id": "6cb1466e",
   "metadata": {},
   "outputs": [],
   "source": [
    "year_median = df['Year'].median()\n",
    "victim_age_median = df['Victim Age'].median()\n",
    "perpetrator_age_median = df['Perpetrator Age'].median()"
   ]
  },
  {
   "cell_type": "markdown",
   "id": "09aa156d",
   "metadata": {},
   "source": [
    "## Median Values"
   ]
  },
  {
   "cell_type": "code",
   "execution_count": 9,
   "id": "c9fa4051",
   "metadata": {},
   "outputs": [
    {
     "name": "stdout",
     "output_type": "stream",
     "text": [
      "The median for the Year values is:  1995.0\n",
      "The median for the Victim Age values is:  30.0\n",
      "The median for the Year values is:  21.0\n"
     ]
    }
   ],
   "source": [
    "print(\"The median for the Year values is: \", year_median)\n",
    "print(\"The median for the Victim Age values is: \", victim_age_median)\n",
    "print(\"The median for the Year values is: \", perpetrator_age_median)"
   ]
  },
  {
   "cell_type": "markdown",
   "id": "f3b367bb",
   "metadata": {},
   "source": [
    "## Minimum and Maximum Values Calculation"
   ]
  },
  {
   "cell_type": "code",
   "execution_count": 10,
   "id": "c503ee8a",
   "metadata": {},
   "outputs": [],
   "source": [
    "minimum_year = df['Year'].min()\n",
    "maximum_year = df['Year'].max()\n",
    "\n",
    "minimum_victim_age = df['Victim Age'].min()\n",
    "maximum_victim_age = df['Victim Age'].max()\n",
    "\n",
    "minimum_perpetrator_age = df['Perpetrator Age'].min()\n",
    "maximum_perpetrator_age = df['Perpetrator Age'].max()"
   ]
  },
  {
   "cell_type": "code",
   "execution_count": 11,
   "id": "7de188dc",
   "metadata": {},
   "outputs": [],
   "source": [
    "## Minimum and Maximum Values"
   ]
  },
  {
   "cell_type": "code",
   "execution_count": 12,
   "id": "02b3e956",
   "metadata": {},
   "outputs": [
    {
     "name": "stdout",
     "output_type": "stream",
     "text": [
      "The minimum value for Year is:  1980 and the maximum Year is: 2014\n",
      "The smallest age for age is:  0 and the maximum age is: 998\n",
      "The median for the Year values is:  21.0\n"
     ]
    }
   ],
   "source": [
    "print(\"The minimum value for Year is: \", minimum_year, \"and the maximum Year is:\", maximum_year)\n",
    "print(\"The smallest age for age is: \", minimum_victim_age, \"and the maximum age is:\", maximum_victim_age)\n",
    "print(\"The median for the Year values is: \", perpetrator_age_median)"
   ]
  },
  {
   "cell_type": "code",
   "execution_count": null,
   "id": "0487fc31",
   "metadata": {},
   "outputs": [],
   "source": []
  }
 ],
 "metadata": {
  "kernelspec": {
   "display_name": "Python 3 (ipykernel)",
   "language": "python",
   "name": "python3"
  },
  "language_info": {
   "codemirror_mode": {
    "name": "ipython",
    "version": 3
   },
   "file_extension": ".py",
   "mimetype": "text/x-python",
   "name": "python",
   "nbconvert_exporter": "python",
   "pygments_lexer": "ipython3",
   "version": "3.9.7"
  }
 },
 "nbformat": 4,
 "nbformat_minor": 5
}
